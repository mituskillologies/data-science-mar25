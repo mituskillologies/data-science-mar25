{
 "cells": [
  {
   "cell_type": "code",
   "execution_count": 17,
   "id": "7bf1ddf9-1c57-4a1d-ad3c-3c13adda2e3f",
   "metadata": {},
   "outputs": [],
   "source": [
    "class Employee():\n",
    "    pass"
   ]
  },
  {
   "cell_type": "code",
   "execution_count": 19,
   "id": "eee3d8d0-55d3-4fe8-ab94-8e0e7ea45594",
   "metadata": {},
   "outputs": [],
   "source": [
    "emp1 = Employee()  # object or instance of a class"
   ]
  },
  {
   "cell_type": "code",
   "execution_count": 21,
   "id": "68a3fa30-2bb4-48e0-bfa3-50f0cf1b4ca8",
   "metadata": {},
   "outputs": [],
   "source": [
    "emp2 = Employee()"
   ]
  },
  {
   "cell_type": "code",
   "execution_count": 23,
   "id": "4fe488f7-66c0-4251-997e-f9e529f9cb3e",
   "metadata": {},
   "outputs": [
    {
     "name": "stdout",
     "output_type": "stream",
     "text": [
      "<__main__.Employee object at 0x00000163DFF9B050>\n",
      "<__main__.Employee object at 0x00000163DFF9B5C0>\n"
     ]
    }
   ],
   "source": [
    "print(emp1)\n",
    "print(emp2)"
   ]
  },
  {
   "cell_type": "code",
   "execution_count": 25,
   "id": "9978075e-b735-4494-8c76-f40bc3c78d66",
   "metadata": {},
   "outputs": [],
   "source": [
    "emp1.first = \"Rishi\"    # instance variables\n",
    "emp1.last = \"Varma\"\n",
    "emp1.salary = 50500"
   ]
  },
  {
   "cell_type": "code",
   "execution_count": 27,
   "id": "966c606b-6e71-4521-831a-67667803d1ea",
   "metadata": {},
   "outputs": [],
   "source": [
    "emp2.first = \"Riya\"\n",
    "emp2.last = \"Varma\"\n",
    "emp2.salary = 53500"
   ]
  },
  {
   "cell_type": "code",
   "execution_count": 29,
   "id": "8735cdfd-35f7-4397-86ac-835840fc3ade",
   "metadata": {},
   "outputs": [],
   "source": [
    "# init method / constructor"
   ]
  },
  {
   "cell_type": "code",
   "execution_count": 49,
   "id": "9ad232e0-de11-4a3b-9029-1522ad02b656",
   "metadata": {},
   "outputs": [],
   "source": [
    "class Employee():\n",
    "\n",
    "        def __init__(self, first, last, salary):\n",
    "            self.first = first\n",
    "            self.last = last\n",
    "            self.salary = salary\n",
    "\n",
    "        def show(self):\n",
    "            return self.first + \" ok\""
   ]
  },
  {
   "cell_type": "code",
   "execution_count": 51,
   "id": "cbcb0228-10e2-472d-ba09-ed25cc73b16d",
   "metadata": {},
   "outputs": [],
   "source": [
    "emp1 = Employee(\"Rishi\", \"Varma\", 50500)"
   ]
  },
  {
   "cell_type": "code",
   "execution_count": 53,
   "id": "575c8d23-113d-4a18-881e-985417af356c",
   "metadata": {},
   "outputs": [],
   "source": [
    "emp2 = Employee(\"Riya\", \"Varma\", 53500)"
   ]
  },
  {
   "cell_type": "code",
   "execution_count": 55,
   "id": "4d713d5e-7aec-43b3-8eb1-e411badf72d1",
   "metadata": {},
   "outputs": [
    {
     "data": {
      "text/plain": [
       "'Rishi'"
      ]
     },
     "execution_count": 55,
     "metadata": {},
     "output_type": "execute_result"
    }
   ],
   "source": [
    "emp1.first"
   ]
  },
  {
   "cell_type": "code",
   "execution_count": 57,
   "id": "4a9c39d2-d619-4267-8e83-427909857b5b",
   "metadata": {},
   "outputs": [
    {
     "data": {
      "text/plain": [
       "'Rishi ok'"
      ]
     },
     "execution_count": 57,
     "metadata": {},
     "output_type": "execute_result"
    }
   ],
   "source": [
    "emp1.show()"
   ]
  },
  {
   "cell_type": "code",
   "execution_count": 59,
   "id": "6882c6c0-05c1-4df9-887e-7fbd1d498478",
   "metadata": {},
   "outputs": [
    {
     "data": {
      "text/plain": [
       "'Riya ok'"
      ]
     },
     "execution_count": 59,
     "metadata": {},
     "output_type": "execute_result"
    }
   ],
   "source": [
    "emp2.show()"
   ]
  },
  {
   "cell_type": "code",
   "execution_count": 61,
   "id": "7b48f265-66f1-4ff5-958c-93cb28f21916",
   "metadata": {},
   "outputs": [
    {
     "data": {
      "text/plain": [
       "53500"
      ]
     },
     "execution_count": 61,
     "metadata": {},
     "output_type": "execute_result"
    }
   ],
   "source": [
    "emp2.salary"
   ]
  },
  {
   "cell_type": "code",
   "execution_count": 67,
   "id": "0b4f848d-6c11-4b65-b20f-67e0f0334be7",
   "metadata": {},
   "outputs": [],
   "source": [
    "# encapsulation\n",
    "# making a instance varibale public to private"
   ]
  },
  {
   "cell_type": "code",
   "execution_count": 95,
   "id": "7ba6b93e-cbe1-4211-8807-f0f60563cf04",
   "metadata": {},
   "outputs": [],
   "source": [
    "class Employee1():\n",
    "\n",
    "    company = \"ClosedAI\"   # class variable\n",
    "    \n",
    "    def __init__(self, first, last, salary):\n",
    "        self.first = first    # instance variable\n",
    "        self.last = last\n",
    "        self.__salary = salary\n",
    "\n",
    "    def show(self):\n",
    "        return self.first + \" ok\"\n",
    "\n",
    "    def show_salary(self):\n",
    "        return self.__salary"
   ]
  },
  {
   "cell_type": "code",
   "execution_count": 97,
   "id": "6e5707b4-85ec-4860-bc82-2d855f46e03d",
   "metadata": {},
   "outputs": [],
   "source": [
    "emp1 = Employee1(\"Rishi\", \"Varma\", 50500)"
   ]
  },
  {
   "cell_type": "code",
   "execution_count": 99,
   "id": "cb8b2607-af3d-4241-9de9-113a838090cd",
   "metadata": {},
   "outputs": [
    {
     "ename": "AttributeError",
     "evalue": "'Employee1' object has no attribute 'salary'",
     "output_type": "error",
     "traceback": [
      "\u001b[1;31m---------------------------------------------------------------------------\u001b[0m",
      "\u001b[1;31mAttributeError\u001b[0m                            Traceback (most recent call last)",
      "Cell \u001b[1;32mIn[99], line 1\u001b[0m\n\u001b[1;32m----> 1\u001b[0m emp1\u001b[38;5;241m.\u001b[39msalary\n",
      "\u001b[1;31mAttributeError\u001b[0m: 'Employee1' object has no attribute 'salary'"
     ]
    }
   ],
   "source": [
    "emp1.salary"
   ]
  },
  {
   "cell_type": "code",
   "execution_count": 101,
   "id": "6aa02a6b-4448-46a9-b2a5-333fb4782e2d",
   "metadata": {},
   "outputs": [
    {
     "data": {
      "text/plain": [
       "50500"
      ]
     },
     "execution_count": 101,
     "metadata": {},
     "output_type": "execute_result"
    }
   ],
   "source": [
    "emp1.show_salary()"
   ]
  },
  {
   "cell_type": "code",
   "execution_count": 103,
   "id": "0d071404-4dfb-41ee-b937-1dd92976fe94",
   "metadata": {},
   "outputs": [
    {
     "data": {
      "text/plain": [
       "'ClosedAI'"
      ]
     },
     "execution_count": 103,
     "metadata": {},
     "output_type": "execute_result"
    }
   ],
   "source": [
    "emp1.company"
   ]
  },
  {
   "cell_type": "code",
   "execution_count": 107,
   "id": "baa90f37-1da4-451a-905b-43235852ce37",
   "metadata": {},
   "outputs": [],
   "source": [
    "emp2 = Employee1(\"Riya\", \"Varma\", 53500)"
   ]
  },
  {
   "cell_type": "code",
   "execution_count": 109,
   "id": "49d50d2c-2242-4ac9-b759-4a1a2f5eae47",
   "metadata": {},
   "outputs": [
    {
     "data": {
      "text/plain": [
       "'ClosedAI'"
      ]
     },
     "execution_count": 109,
     "metadata": {},
     "output_type": "execute_result"
    }
   ],
   "source": [
    "emp2.company"
   ]
  },
  {
   "cell_type": "code",
   "execution_count": 111,
   "id": "f93543db-b0ac-4428-a8ff-2c77ea597fd4",
   "metadata": {},
   "outputs": [],
   "source": [
    "# Inheritance"
   ]
  },
  {
   "cell_type": "code",
   "execution_count": 113,
   "id": "07521130-976e-45b7-855d-e5dad6db7308",
   "metadata": {},
   "outputs": [],
   "source": [
    "class Employee2(Employee1):\n",
    "    # Employee1 -> Parent class,   Employee2 -> child class/ sub class\n",
    "    pass    "
   ]
  },
  {
   "cell_type": "code",
   "execution_count": 115,
   "id": "91def992-d4f5-4a3b-822e-6d39a7d59d7f",
   "metadata": {},
   "outputs": [],
   "source": [
    "emp3 = Employee2(\"Kartik\", \"Patil\", 45000)"
   ]
  },
  {
   "cell_type": "code",
   "execution_count": 117,
   "id": "0d12125a-fde9-48ee-a4df-503b7b1e3379",
   "metadata": {},
   "outputs": [
    {
     "data": {
      "text/plain": [
       "45000"
      ]
     },
     "execution_count": 117,
     "metadata": {},
     "output_type": "execute_result"
    }
   ],
   "source": [
    "emp3.show_salary()"
   ]
  },
  {
   "cell_type": "code",
   "execution_count": 119,
   "id": "60b7ee35-fa51-46fd-93e1-319d9f3bb625",
   "metadata": {},
   "outputs": [],
   "source": [
    "\"\"\"\n",
    "create a class called Person\n",
    "objects having attributes name, age, city, hobby  (create 3 objects)\n",
    "create a method which will show all the info upon calling\n",
    "\n",
    "\"\"\";"
   ]
  },
  {
   "cell_type": "code",
   "execution_count": 134,
   "id": "bfa126fa-af35-4bd8-9110-e3847674cec9",
   "metadata": {},
   "outputs": [],
   "source": [
    "class Person():\n",
    "\n",
    "    def __init__(self, name, age, city, hobby):\n",
    "        self.name = name\n",
    "        self.age = age\n",
    "        self.city = city\n",
    "        self.hobby = hobby\n",
    "\n",
    "    def info(self):\n",
    "        return f\"name: {self.name}, age: {self.age}, city: {self.city}, hobby:{self.hobby}\""
   ]
  },
  {
   "cell_type": "code",
   "execution_count": 136,
   "id": "5dd814f5-2dc3-46ca-9604-843d0f00522a",
   "metadata": {},
   "outputs": [],
   "source": [
    "p1 = Person(\"Ankit\", 23, \"Pune\", \"Cricket\")\n",
    "p2 = Person(\"Ananya\", 24, \"Nashik\", \"Reading\")\n",
    "p3 = Person(\"Natasha\", 23, \"Pune\", \"Judo\")"
   ]
  },
  {
   "cell_type": "code",
   "execution_count": 138,
   "id": "92560b01-04f1-4673-b691-989c3fd55ccb",
   "metadata": {},
   "outputs": [
    {
     "data": {
      "text/plain": [
       "'name: Ananya, age: 24, city: Nashik, hobby:Reading'"
      ]
     },
     "execution_count": 138,
     "metadata": {},
     "output_type": "execute_result"
    }
   ],
   "source": [
    "p2.info()"
   ]
  },
  {
   "cell_type": "code",
   "execution_count": 140,
   "id": "a1d4da89-8d3a-415c-9c12-8d5bc21fc08a",
   "metadata": {},
   "outputs": [
    {
     "data": {
      "text/plain": [
       "['__class__',\n",
       " '__delattr__',\n",
       " '__dict__',\n",
       " '__dir__',\n",
       " '__doc__',\n",
       " '__eq__',\n",
       " '__format__',\n",
       " '__ge__',\n",
       " '__getattribute__',\n",
       " '__getstate__',\n",
       " '__gt__',\n",
       " '__hash__',\n",
       " '__init__',\n",
       " '__init_subclass__',\n",
       " '__le__',\n",
       " '__lt__',\n",
       " '__module__',\n",
       " '__ne__',\n",
       " '__new__',\n",
       " '__reduce__',\n",
       " '__reduce_ex__',\n",
       " '__repr__',\n",
       " '__setattr__',\n",
       " '__sizeof__',\n",
       " '__str__',\n",
       " '__subclasshook__',\n",
       " '__weakref__',\n",
       " 'age',\n",
       " 'city',\n",
       " 'hobby',\n",
       " 'info',\n",
       " 'name']"
      ]
     },
     "execution_count": 140,
     "metadata": {},
     "output_type": "execute_result"
    }
   ],
   "source": [
    "dir(p1)"
   ]
  },
  {
   "cell_type": "code",
   "execution_count": 142,
   "id": "909b9c9f-cf60-4be2-a53d-2bad793d3343",
   "metadata": {},
   "outputs": [
    {
     "name": "stdout",
     "output_type": "stream",
     "text": [
      "<__main__.Person object at 0x00000163DFB6D070>\n"
     ]
    }
   ],
   "source": [
    "print(p2)"
   ]
  },
  {
   "cell_type": "code",
   "execution_count": 144,
   "id": "b6ed06ac-9dba-4ced-b8fe-fae15f066071",
   "metadata": {},
   "outputs": [],
   "source": [
    "class Person():\n",
    "\n",
    "    def __init__(self, name, age, city, hobby):\n",
    "        self.name = name\n",
    "        self.age = age\n",
    "        self.city = city\n",
    "        self.hobby = hobby\n",
    "\n",
    "    def __str__(self):\n",
    "        return f\"name: {self.name}, age: {self.age}, city: {self.city}, hobby:{self.hobby}\""
   ]
  },
  {
   "cell_type": "code",
   "execution_count": 146,
   "id": "9653dfa6-15e0-4ddf-b170-39143d7062ab",
   "metadata": {},
   "outputs": [],
   "source": [
    "p1 = Person(\"Ankit\", 23, \"Pune\", \"Cricket\")\n",
    "p2 = Person(\"Ananya\", 24, \"Nashik\", \"Reading\")\n",
    "p3 = Person(\"Natasha\", 23, \"Pune\", \"Judo\")"
   ]
  },
  {
   "cell_type": "code",
   "execution_count": 148,
   "id": "3e914b60-35b7-4f5e-b12b-6388f366aed1",
   "metadata": {},
   "outputs": [
    {
     "name": "stdout",
     "output_type": "stream",
     "text": [
      "name: Ananya, age: 24, city: Nashik, hobby:Reading\n"
     ]
    }
   ],
   "source": [
    "print(p2)"
   ]
  },
  {
   "cell_type": "code",
   "execution_count": 152,
   "id": "6949611e-876f-4385-9de8-ec1fa87e00b3",
   "metadata": {},
   "outputs": [],
   "source": [
    "\"\"\"\n",
    "create a class called Student\n",
    "create 2-3 objects having attributes name, age\n",
    "\n",
    "create a method which will add a skill (eg.. python, AI/ML) to the student\n",
    "where u can view the info of it later (i.e -> skills of a student)\n",
    "\n",
    "\"\"\";"
   ]
  },
  {
   "cell_type": "code",
   "execution_count": 166,
   "id": "553f62f4-8361-4b57-8f2a-65367263bac5",
   "metadata": {},
   "outputs": [],
   "source": [
    "# wrong way\n",
    "class Student:\n",
    "\n",
    "    skills = []    # will remain same for all the objects\n",
    "    \n",
    "    def __init__(self, name, age):\n",
    "        self.name = name\n",
    "        self.age = age\n",
    "\n",
    "    def add_skill(self, skill):\n",
    "        self.skills.append(skill)"
   ]
  },
  {
   "cell_type": "code",
   "execution_count": 156,
   "id": "0fff0436-27b4-455d-a8a6-2f35f8e63378",
   "metadata": {},
   "outputs": [],
   "source": [
    "s1 = Student(\"Ajinky\", 22)\n",
    "s2 = Student(\"Riya\", 23)"
   ]
  },
  {
   "cell_type": "code",
   "execution_count": 158,
   "id": "135b23a8-5495-4c43-996f-4fcac8da64fa",
   "metadata": {},
   "outputs": [],
   "source": [
    "s1.add_skill(\"python\")"
   ]
  },
  {
   "cell_type": "code",
   "execution_count": 160,
   "id": "a46c8019-2339-46bb-bff1-91b3e0560945",
   "metadata": {},
   "outputs": [],
   "source": [
    "s2.add_skill(\"java\")"
   ]
  },
  {
   "cell_type": "code",
   "execution_count": 162,
   "id": "43e89da3-aec4-4953-a887-306d93312448",
   "metadata": {},
   "outputs": [
    {
     "data": {
      "text/plain": [
       "['python', 'java']"
      ]
     },
     "execution_count": 162,
     "metadata": {},
     "output_type": "execute_result"
    }
   ],
   "source": [
    "s1.skills"
   ]
  },
  {
   "cell_type": "code",
   "execution_count": 164,
   "id": "93996f64-ad9f-45d2-9067-800652b94c83",
   "metadata": {},
   "outputs": [
    {
     "data": {
      "text/plain": [
       "['python', 'java']"
      ]
     },
     "execution_count": 164,
     "metadata": {},
     "output_type": "execute_result"
    }
   ],
   "source": [
    "s2.skills"
   ]
  },
  {
   "cell_type": "code",
   "execution_count": 168,
   "id": "ec014b63-1e78-420d-bcba-13f5f244d64f",
   "metadata": {},
   "outputs": [],
   "source": [
    "# correct way\n",
    "class Student:\n",
    "    \n",
    "    def __init__(self, name, age):\n",
    "        self.name = name\n",
    "        self.age = age\n",
    "        self.skills = []    # will create an empty list for every object\n",
    "\n",
    "    def add_skill(self, skill):\n",
    "        self.skills.append(skill)"
   ]
  },
  {
   "cell_type": "code",
   "execution_count": 170,
   "id": "dc7e608b-90f3-412d-9b71-93275e35df0f",
   "metadata": {},
   "outputs": [],
   "source": [
    "s1 = Student(\"Ajinky\", 22)\n",
    "s2 = Student(\"Riya\", 23)"
   ]
  },
  {
   "cell_type": "code",
   "execution_count": 172,
   "id": "414933ca-a13b-4e79-ba00-00dc93a7e44f",
   "metadata": {},
   "outputs": [
    {
     "data": {
      "text/plain": [
       "[]"
      ]
     },
     "execution_count": 172,
     "metadata": {},
     "output_type": "execute_result"
    }
   ],
   "source": [
    "s1.skills"
   ]
  },
  {
   "cell_type": "code",
   "execution_count": 174,
   "id": "6b092fd5-a486-464e-a856-8a680910e8ae",
   "metadata": {},
   "outputs": [
    {
     "data": {
      "text/plain": [
       "[]"
      ]
     },
     "execution_count": 174,
     "metadata": {},
     "output_type": "execute_result"
    }
   ],
   "source": [
    "s2.skills"
   ]
  },
  {
   "cell_type": "code",
   "execution_count": 176,
   "id": "a5013ab9-ab72-4647-ab4c-556916031ab4",
   "metadata": {},
   "outputs": [],
   "source": [
    "s1.add_skill(\"python\")\n",
    "s2.add_skill(\"java\")"
   ]
  },
  {
   "cell_type": "code",
   "execution_count": 178,
   "id": "3b33fb55-612f-486a-a878-e88fd73c75b7",
   "metadata": {},
   "outputs": [
    {
     "data": {
      "text/plain": [
       "['python']"
      ]
     },
     "execution_count": 178,
     "metadata": {},
     "output_type": "execute_result"
    }
   ],
   "source": [
    "s1.skills"
   ]
  },
  {
   "cell_type": "code",
   "execution_count": 180,
   "id": "b70ba3ee-0a1d-4969-abd9-68d315b3692c",
   "metadata": {},
   "outputs": [
    {
     "data": {
      "text/plain": [
       "['java']"
      ]
     },
     "execution_count": 180,
     "metadata": {},
     "output_type": "execute_result"
    }
   ],
   "source": [
    "s2.skills"
   ]
  },
  {
   "cell_type": "code",
   "execution_count": 182,
   "id": "c2b4b3ac-d131-403e-bd06-368f38c990d6",
   "metadata": {},
   "outputs": [],
   "source": [
    "s1.add_skill(\"ML\")"
   ]
  },
  {
   "cell_type": "code",
   "execution_count": 184,
   "id": "3f8ee65b-b4c7-4908-b449-da0f67e930f5",
   "metadata": {},
   "outputs": [
    {
     "data": {
      "text/plain": [
       "['python', 'ML']"
      ]
     },
     "execution_count": 184,
     "metadata": {},
     "output_type": "execute_result"
    }
   ],
   "source": [
    "s1.skills"
   ]
  },
  {
   "cell_type": "markdown",
   "id": "e6b23f03-f003-45aa-a895-860ee845bd4e",
   "metadata": {},
   "source": [
    "#### Polymorphism"
   ]
  },
  {
   "cell_type": "code",
   "execution_count": 191,
   "id": "49b2ae11-6852-462d-a0b9-ab07fd7da2d4",
   "metadata": {},
   "outputs": [],
   "source": [
    "# base class\n",
    "\n",
    "class Animal():\n",
    "    def speak(self):\n",
    "        return \"sound of an animal\""
   ]
  },
  {
   "cell_type": "code",
   "execution_count": 193,
   "id": "c7701778-056e-4b99-8044-d926c83678ad",
   "metadata": {},
   "outputs": [],
   "source": [
    "# derived class 1\n",
    "class Dog(Animal):\n",
    "    def speak(self):\n",
    "        return \"woof woof!!!\"\n",
    "\n",
    "# derived class 2\n",
    "class Cat(Animal):\n",
    "    def speak(self):\n",
    "        return \"meow\""
   ]
  },
  {
   "cell_type": "code",
   "execution_count": 195,
   "id": "bd6fd0c9-2f13-4c61-a046-ede2e67fc636",
   "metadata": {},
   "outputs": [],
   "source": [
    "dog1 = Dog()\n",
    "cat1 = Cat()"
   ]
  },
  {
   "cell_type": "code",
   "execution_count": 197,
   "id": "03c8175f-3f93-4d14-963f-aef88a111320",
   "metadata": {},
   "outputs": [
    {
     "data": {
      "text/plain": [
       "'woof woof!!!'"
      ]
     },
     "execution_count": 197,
     "metadata": {},
     "output_type": "execute_result"
    }
   ],
   "source": [
    "dog1.speak()"
   ]
  },
  {
   "cell_type": "code",
   "execution_count": 199,
   "id": "cf4b2658-6aac-46a6-bad3-8afb494dfd8c",
   "metadata": {},
   "outputs": [
    {
     "data": {
      "text/plain": [
       "'meow'"
      ]
     },
     "execution_count": 199,
     "metadata": {},
     "output_type": "execute_result"
    }
   ],
   "source": [
    "cat1.speak()"
   ]
  },
  {
   "cell_type": "code",
   "execution_count": 201,
   "id": "9364bbd2-88f9-4256-8ca4-dbda19cb6bd6",
   "metadata": {},
   "outputs": [],
   "source": [
    "# simple menu driven"
   ]
  },
  {
   "cell_type": "code",
   "execution_count": 250,
   "id": "3741d241-3fa6-4ee2-9021-ab1b64bb700d",
   "metadata": {},
   "outputs": [],
   "source": [
    "class Menuapp():\n",
    "\n",
    "    def __init__(self):\n",
    "        self.itemlist = []\n",
    "\n",
    "    def show_menu(self):\n",
    "        print(\"----Menu----\\n1.Add Items\\n2.view items\\n3.exit\")\n",
    "\n",
    "    def add_item(self):\n",
    "        item = input(\"put the item name: \")\n",
    "        self.itemlist.append(item)\n",
    "\n",
    "    def view_items(self):\n",
    "        print(self.itemlist)\n",
    "\n",
    "    def run(self):\n",
    "        while True:\n",
    "            self.show_menu()\n",
    "    \n",
    "            ch = int(input(\"Enter the choice\"))\n",
    "    \n",
    "            if ch == 1:\n",
    "                self.add_item()\n",
    "            elif ch == 2:\n",
    "                self.view_items()\n",
    "            elif ch == 3:\n",
    "                break\n",
    "            else:\n",
    "                return \"Invalid Choice!!!\""
   ]
  },
  {
   "cell_type": "code",
   "execution_count": 252,
   "id": "ba0d85e5-60d9-4618-a4e9-fb959fab721b",
   "metadata": {},
   "outputs": [],
   "source": [
    "app1 = Menuapp()"
   ]
  },
  {
   "cell_type": "code",
   "execution_count": 254,
   "id": "4f2a69be-13ad-4b59-8904-3bcc035f3387",
   "metadata": {},
   "outputs": [
    {
     "name": "stdout",
     "output_type": "stream",
     "text": [
      "----Menu----\n",
      "1.Add Items\n",
      "2.view items\n",
      "3.exit\n"
     ]
    },
    {
     "name": "stdin",
     "output_type": "stream",
     "text": [
      "Enter the choice 1\n",
      "put the item name:  grocery\n"
     ]
    },
    {
     "name": "stdout",
     "output_type": "stream",
     "text": [
      "----Menu----\n",
      "1.Add Items\n",
      "2.view items\n",
      "3.exit\n"
     ]
    },
    {
     "name": "stdin",
     "output_type": "stream",
     "text": [
      "Enter the choice 3\n"
     ]
    }
   ],
   "source": [
    "app1.run()"
   ]
  },
  {
   "cell_type": "code",
   "execution_count": null,
   "id": "4f6554c6-e312-47a1-9098-4c074fc9ee7a",
   "metadata": {},
   "outputs": [],
   "source": []
  }
 ],
 "metadata": {
  "kernelspec": {
   "display_name": "Python [conda env:base] *",
   "language": "python",
   "name": "conda-base-py"
  },
  "language_info": {
   "codemirror_mode": {
    "name": "ipython",
    "version": 3
   },
   "file_extension": ".py",
   "mimetype": "text/x-python",
   "name": "python",
   "nbconvert_exporter": "python",
   "pygments_lexer": "ipython3",
   "version": "3.12.4"
  }
 },
 "nbformat": 4,
 "nbformat_minor": 5
}
