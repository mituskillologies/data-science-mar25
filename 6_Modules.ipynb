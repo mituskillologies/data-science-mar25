{
 "cells": [
  {
   "cell_type": "code",
   "execution_count": 1,
   "id": "f229c600-1e64-4408-9ab2-d4227f04e3b3",
   "metadata": {},
   "outputs": [
    {
     "ename": "NameError",
     "evalue": "name 'compare' is not defined",
     "output_type": "error",
     "traceback": [
      "\u001b[1;31m---------------------------------------------------------------------------\u001b[0m",
      "\u001b[1;31mNameError\u001b[0m                                 Traceback (most recent call last)",
      "Cell \u001b[1;32mIn[1], line 1\u001b[0m\n\u001b[1;32m----> 1\u001b[0m \u001b[43mcompare\u001b[49m(\u001b[38;5;241m5\u001b[39m, \u001b[38;5;241m6\u001b[39m)\n",
      "\u001b[1;31mNameError\u001b[0m: name 'compare' is not defined"
     ]
    }
   ],
   "source": [
    "compare(5, 6)"
   ]
  },
  {
   "cell_type": "code",
   "execution_count": 1,
   "id": "8d40ea99-4ef7-42e2-85b1-5e7330ede022",
   "metadata": {},
   "outputs": [],
   "source": [
    "import module1"
   ]
  },
  {
   "cell_type": "code",
   "execution_count": 24,
   "id": "1dd3fe2e-33a9-49d0-a17a-0b2379bcd286",
   "metadata": {},
   "outputs": [
    {
     "name": "stdout",
     "output_type": "stream",
     "text": [
      "8 is greater\n"
     ]
    }
   ],
   "source": [
    "module1.compare(5, 8)"
   ]
  },
  {
   "cell_type": "code",
   "execution_count": 30,
   "id": "ff093f60-7edf-44f0-b844-f5ff48d20e20",
   "metadata": {},
   "outputs": [
    {
     "ename": "AttributeError",
     "evalue": "module 'module1' has no attribute 'sh'",
     "output_type": "error",
     "traceback": [
      "\u001b[1;31m---------------------------------------------------------------------------\u001b[0m",
      "\u001b[1;31mAttributeError\u001b[0m                            Traceback (most recent call last)",
      "Cell \u001b[1;32mIn[30], line 1\u001b[0m\n\u001b[1;32m----> 1\u001b[0m \u001b[43mmodule1\u001b[49m\u001b[38;5;241;43m.\u001b[39;49m\u001b[43msh\u001b[49m()\n",
      "\u001b[1;31mAttributeError\u001b[0m: module 'module1' has no attribute 'sh'"
     ]
    }
   ],
   "source": [
    "module1.sh()"
   ]
  },
  {
   "cell_type": "code",
   "execution_count": 32,
   "id": "dbbd546c-cbaf-4e53-a458-48e452faa858",
   "metadata": {},
   "outputs": [
    {
     "data": {
      "text/plain": [
       "['__builtins__',\n",
       " '__cached__',\n",
       " '__doc__',\n",
       " '__file__',\n",
       " '__loader__',\n",
       " '__name__',\n",
       " '__package__',\n",
       " '__spec__',\n",
       " 'compare']"
      ]
     },
     "execution_count": 32,
     "metadata": {},
     "output_type": "execute_result"
    }
   ],
   "source": [
    "dir(module1)"
   ]
  },
  {
   "cell_type": "code",
   "execution_count": 34,
   "id": "acef207a-1a89-4bc6-a927-be938826ae83",
   "metadata": {},
   "outputs": [
    {
     "name": "stdout",
     "output_type": "stream",
     "text": [
      "Help on module module1:\n",
      "\n",
      "NAME\n",
      "    module1\n",
      "\n",
      "FUNCTIONS\n",
      "    compare(x, y)\n",
      "\n",
      "FILE\n",
      "    c:\\users\\aditya\\mitu mar 2025\\module1.py\n",
      "\n",
      "\n"
     ]
    }
   ],
   "source": [
    "help(module1)"
   ]
  },
  {
   "cell_type": "code",
   "execution_count": 3,
   "id": "c793e303-9369-4483-b49e-59b3b59e07a9",
   "metadata": {},
   "outputs": [
    {
     "data": {
      "text/plain": [
       "'module1'"
      ]
     },
     "execution_count": 3,
     "metadata": {},
     "output_type": "execute_result"
    }
   ],
   "source": [
    "module1.__name__"
   ]
  },
  {
   "cell_type": "code",
   "execution_count": null,
   "id": "4907fe20-65c7-4ae4-b525-96fa4a9016d9",
   "metadata": {},
   "outputs": [],
   "source": []
  }
 ],
 "metadata": {
  "kernelspec": {
   "display_name": "Python [conda env:Orange]",
   "language": "python",
   "name": "conda-env-Orange-py"
  },
  "language_info": {
   "codemirror_mode": {
    "name": "ipython",
    "version": 3
   },
   "file_extension": ".py",
   "mimetype": "text/x-python",
   "name": "python",
   "nbconvert_exporter": "python",
   "pygments_lexer": "ipython3",
   "version": "3.11.8"
  }
 },
 "nbformat": 4,
 "nbformat_minor": 5
}
