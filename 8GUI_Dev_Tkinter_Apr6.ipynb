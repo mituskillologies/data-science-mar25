{
 "cells": [
  {
   "cell_type": "code",
   "execution_count": 33,
   "id": "d6c598e2-43ea-4948-b94e-fcabf766328d",
   "metadata": {},
   "outputs": [],
   "source": [
    "import tkinter as tk\n",
    "from tkinter import messagebox"
   ]
  },
  {
   "cell_type": "code",
   "execution_count": 43,
   "id": "9743156e-e804-4df7-bf35-b4873046a16f",
   "metadata": {},
   "outputs": [],
   "source": [
    "top = tk.Tk()\n",
    "\n",
    "top.title(\"My Application\")\n",
    "top.geometry(\"1200x700\")\n",
    "\n",
    "a = tk.IntVar()\n",
    "\n",
    "def square():\n",
    "    num = a.get()\n",
    "    sq = num * num\n",
    "    messagebox.showinfo(\"Result\", f\"sqaure is {sq}\")\n",
    "\n",
    "l = tk.Label(top, text = \"INPUT\", bg = 'cyan').place(x = 300, y = 100)\n",
    "e = tk.Entry(top, textvariable = a).place(x = 400, y = 100)\n",
    "b = tk.Button(top, text = \"Submit\", command = square, bg = \"orange\").place(x = 350, y = 200)\n",
    "\n",
    "top.mainloop()"
   ]
  },
  {
   "cell_type": "code",
   "execution_count": 45,
   "id": "56d9bb0d-422f-4fae-aa80-168a71f4fd12",
   "metadata": {},
   "outputs": [],
   "source": [
    "# create for addition of 2 numbers"
   ]
  },
  {
   "cell_type": "code",
   "execution_count": 47,
   "id": "4557add5-478b-4375-86ff-dc3b994c7f0a",
   "metadata": {},
   "outputs": [],
   "source": [
    "top = tk.Tk()\n",
    "\n",
    "top.title(\"My Application\")\n",
    "top.geometry(\"1200x700\")\n",
    "\n",
    "a = tk.IntVar()\n",
    "b = tk.IntVar()\n",
    "\n",
    "def square():\n",
    "    add = a.get() + b.get()\n",
    "    messagebox.showinfo(\"Result\", f\"Addition is {add}\")\n",
    "\n",
    "l1 = tk.Label(top, text = \"INPUT\", bg = 'cyan').place(x = 300, y = 100)\n",
    "l2 = tk.Label(top, text = \"INPUT\", bg = 'cyan').place(x = 300, y = 200)\n",
    "\n",
    "e1 = tk.Entry(top, textvariable = a).place(x = 400, y = 100)\n",
    "e2 = tk.Entry(top, textvariable = b).place(x = 400, y = 200)\n",
    "\n",
    "b1 = tk.Button(top, text = \"Submit\", command = square, bg = \"orange\").place(x = 350, y = 300)\n",
    "\n",
    "top.mainloop()"
   ]
  },
  {
   "cell_type": "code",
   "execution_count": null,
   "id": "a9c10090-ed84-4664-956e-1fbfb06eeebe",
   "metadata": {},
   "outputs": [],
   "source": []
  }
 ],
 "metadata": {
  "kernelspec": {
   "display_name": "Python [conda env:base] *",
   "language": "python",
   "name": "conda-base-py"
  },
  "language_info": {
   "codemirror_mode": {
    "name": "ipython",
    "version": 3
   },
   "file_extension": ".py",
   "mimetype": "text/x-python",
   "name": "python",
   "nbconvert_exporter": "python",
   "pygments_lexer": "ipython3",
   "version": "3.12.4"
  }
 },
 "nbformat": 4,
 "nbformat_minor": 5
}
