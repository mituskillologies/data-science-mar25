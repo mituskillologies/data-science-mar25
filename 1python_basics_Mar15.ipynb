{
 "cells": [
  {
   "cell_type": "code",
   "execution_count": 1,
   "id": "e578fa92-3b17-40ce-adc9-21a5bdaab1c2",
   "metadata": {},
   "outputs": [
    {
     "name": "stdout",
     "output_type": "stream",
     "text": [
      "Hello World\n"
     ]
    }
   ],
   "source": [
    "print(\"Hello World\")"
   ]
  },
  {
   "cell_type": "code",
   "execution_count": 2,
   "id": "a00156fe-4f3c-4f2a-83ad-1e2abdd1b117",
   "metadata": {},
   "outputs": [
    {
     "name": "stdout",
     "output_type": "stream",
     "text": [
      "Aditya\n"
     ]
    }
   ],
   "source": [
    "print('Aditya')"
   ]
  },
  {
   "cell_type": "code",
   "execution_count": 3,
   "id": "fbe7a708-29db-49e2-ae19-e2634ae71e06",
   "metadata": {},
   "outputs": [],
   "source": [
    "# Identifiers"
   ]
  },
  {
   "cell_type": "code",
   "execution_count": 4,
   "id": "a55c1ef2-6c54-47db-99c7-d926502e24bd",
   "metadata": {},
   "outputs": [],
   "source": [
    "num = 2351"
   ]
  },
  {
   "cell_type": "code",
   "execution_count": 5,
   "id": "155d6f60-4052-46c7-b41a-201245c49365",
   "metadata": {},
   "outputs": [
    {
     "name": "stdout",
     "output_type": "stream",
     "text": [
      "2351\n"
     ]
    }
   ],
   "source": [
    "print(num)"
   ]
  },
  {
   "cell_type": "code",
   "execution_count": 6,
   "id": "6eb02ef4-3e55-459e-b2d0-04b45c7160b8",
   "metadata": {},
   "outputs": [
    {
     "name": "stdout",
     "output_type": "stream",
     "text": [
      "num\n"
     ]
    }
   ],
   "source": [
    "print(\"num\")"
   ]
  },
  {
   "cell_type": "code",
   "execution_count": 7,
   "id": "300948e9-4ea2-462e-b36c-442a2f32021a",
   "metadata": {},
   "outputs": [],
   "source": [
    "num1 = 50"
   ]
  },
  {
   "cell_type": "code",
   "execution_count": 8,
   "id": "2281ede7-2e9b-48af-b24d-2783f71759c6",
   "metadata": {},
   "outputs": [
    {
     "data": {
      "text/plain": [
       "50"
      ]
     },
     "execution_count": 8,
     "metadata": {},
     "output_type": "execute_result"
    }
   ],
   "source": [
    "num1"
   ]
  },
  {
   "cell_type": "code",
   "execution_count": 9,
   "id": "bde99b9b-68ad-4cbf-b7a7-29f5312eaeee",
   "metadata": {},
   "outputs": [],
   "source": [
    "Num = 100"
   ]
  },
  {
   "cell_type": "code",
   "execution_count": 10,
   "id": "c14c6f60-99f3-48b4-9337-ac4ea072c3ac",
   "metadata": {},
   "outputs": [
    {
     "name": "stdout",
     "output_type": "stream",
     "text": [
      "2351\n",
      "100\n"
     ]
    }
   ],
   "source": [
    "print(num)\n",
    "print(Num)"
   ]
  },
  {
   "cell_type": "code",
   "execution_count": 11,
   "id": "95e7cb66-3882-4e0b-8e72-e1307271fa61",
   "metadata": {},
   "outputs": [],
   "source": [
    "rate_of_interest = 10"
   ]
  },
  {
   "cell_type": "code",
   "execution_count": 12,
   "id": "0b19661c-fdc2-4c24-9be9-8249c3e57aed",
   "metadata": {},
   "outputs": [
    {
     "data": {
      "text/plain": [
       "10"
      ]
     },
     "execution_count": 12,
     "metadata": {},
     "output_type": "execute_result"
    }
   ],
   "source": [
    "rate_of_interest"
   ]
  },
  {
   "cell_type": "code",
   "execution_count": 13,
   "id": "e5dbdbba-4a03-40c5-a8d8-ef3592f3f404",
   "metadata": {},
   "outputs": [],
   "source": [
    "# keywords"
   ]
  },
  {
   "cell_type": "code",
   "execution_count": 14,
   "id": "60fd0bd3-7260-473d-9b15-da16f7a771b7",
   "metadata": {},
   "outputs": [
    {
     "ename": "SyntaxError",
     "evalue": "invalid syntax (679020696.py, line 1)",
     "output_type": "error",
     "traceback": [
      "\u001b[1;36m  Cell \u001b[1;32mIn[14], line 1\u001b[1;36m\u001b[0m\n\u001b[1;33m    raise = 11\u001b[0m\n\u001b[1;37m          ^\u001b[0m\n\u001b[1;31mSyntaxError\u001b[0m\u001b[1;31m:\u001b[0m invalid syntax\n"
     ]
    }
   ],
   "source": [
    "raise = 11"
   ]
  },
  {
   "cell_type": "code",
   "execution_count": 100,
   "id": "1f9eaa86-626b-4c0f-9064-0b9350793224",
   "metadata": {},
   "outputs": [
    {
     "data": {
      "text/plain": [
       "11"
      ]
     },
     "execution_count": 100,
     "metadata": {},
     "output_type": "execute_result"
    }
   ],
   "source": [
    "Raise = 11\n",
    "Raise"
   ]
  },
  {
   "cell_type": "code",
   "execution_count": 102,
   "id": "baf4dfdf-f957-4222-a8d7-6d17c7909f87",
   "metadata": {},
   "outputs": [],
   "source": [
    "# datatypes"
   ]
  },
  {
   "cell_type": "code",
   "execution_count": 103,
   "id": "77d083ea-e5dd-4d29-a65e-42acba61381d",
   "metadata": {},
   "outputs": [],
   "source": [
    "num = 20"
   ]
  },
  {
   "cell_type": "code",
   "execution_count": 104,
   "id": "fbc1967b-c12f-43fc-906b-9b17d80aa0ef",
   "metadata": {},
   "outputs": [
    {
     "data": {
      "text/plain": [
       "20"
      ]
     },
     "execution_count": 104,
     "metadata": {},
     "output_type": "execute_result"
    }
   ],
   "source": [
    "num"
   ]
  },
  {
   "cell_type": "code",
   "execution_count": 105,
   "id": "141aa351-7fe2-4efc-aaa9-9a90f2f82e0e",
   "metadata": {},
   "outputs": [
    {
     "data": {
      "text/plain": [
       "int"
      ]
     },
     "execution_count": 105,
     "metadata": {},
     "output_type": "execute_result"
    }
   ],
   "source": [
    "type(num)"
   ]
  },
  {
   "cell_type": "code",
   "execution_count": 106,
   "id": "f890485a-f61b-4d16-8ee6-ae7ea58b13d4",
   "metadata": {},
   "outputs": [
    {
     "data": {
      "text/plain": [
       "float"
      ]
     },
     "execution_count": 106,
     "metadata": {},
     "output_type": "execute_result"
    }
   ],
   "source": [
    "num1 = 20.21\n",
    "type(num1)"
   ]
  },
  {
   "cell_type": "code",
   "execution_count": 107,
   "id": "83740f5b-1263-4d63-ba9c-8dfc8812a296",
   "metadata": {},
   "outputs": [
    {
     "data": {
      "text/plain": [
       "str"
      ]
     },
     "execution_count": 107,
     "metadata": {},
     "output_type": "execute_result"
    }
   ],
   "source": [
    "name = \"Aditya\"\n",
    "type(name)"
   ]
  },
  {
   "cell_type": "code",
   "execution_count": 108,
   "id": "40a26b2f-c811-4d3a-ade1-5053f1913e79",
   "metadata": {},
   "outputs": [],
   "source": [
    "name1 = \"1000\""
   ]
  },
  {
   "cell_type": "code",
   "execution_count": 109,
   "id": "bfa10c8b-f329-4653-8c86-c97d9edb1f41",
   "metadata": {},
   "outputs": [
    {
     "data": {
      "text/plain": [
       "str"
      ]
     },
     "execution_count": 109,
     "metadata": {},
     "output_type": "execute_result"
    }
   ],
   "source": [
    "type(name1)"
   ]
  },
  {
   "cell_type": "code",
   "execution_count": 110,
   "id": "75fc71e4-1280-448e-ae6a-9e39f9c92b93",
   "metadata": {},
   "outputs": [
    {
     "data": {
      "text/plain": [
       "20"
      ]
     },
     "execution_count": 110,
     "metadata": {},
     "output_type": "execute_result"
    }
   ],
   "source": [
    "num"
   ]
  },
  {
   "cell_type": "code",
   "execution_count": 111,
   "id": "971df458-57fa-4f6d-8c9d-d60acdc36a33",
   "metadata": {},
   "outputs": [
    {
     "data": {
      "text/plain": [
       "50"
      ]
     },
     "execution_count": 111,
     "metadata": {},
     "output_type": "execute_result"
    }
   ],
   "source": [
    "num + 30"
   ]
  },
  {
   "cell_type": "code",
   "execution_count": 112,
   "id": "0f07d951-bffd-49d6-9773-f014e78b8153",
   "metadata": {},
   "outputs": [],
   "source": [
    "result = num + 100"
   ]
  },
  {
   "cell_type": "code",
   "execution_count": 113,
   "id": "51cb9ba9-c85a-45c2-ba89-b2ddedba612a",
   "metadata": {},
   "outputs": [
    {
     "data": {
      "text/plain": [
       "120"
      ]
     },
     "execution_count": 113,
     "metadata": {},
     "output_type": "execute_result"
    }
   ],
   "source": [
    "result"
   ]
  },
  {
   "cell_type": "code",
   "execution_count": 114,
   "id": "7e90ba18-563f-480c-8cbd-5ee2c7badd80",
   "metadata": {},
   "outputs": [
    {
     "data": {
      "text/plain": [
       "87521873596325987561874365987153"
      ]
     },
     "execution_count": 114,
     "metadata": {},
     "output_type": "execute_result"
    }
   ],
   "source": [
    "a = 87521873596325987561874365987153\n",
    "a"
   ]
  },
  {
   "cell_type": "code",
   "execution_count": 115,
   "id": "6d59c7a8-dcab-409d-80eb-49e29c523a9a",
   "metadata": {},
   "outputs": [
    {
     "data": {
      "text/plain": [
       "614890630932468561297739500543980307249170354671911196503829749650517848721511719508490813310375175024869732069854627596886577593704998207306011316420938956251411408565842171585258477347065454996129963725351291376794880410534101210872004554993890402094942300540156179799743314575296005711843404376245854140084840112045798906080678307392427595500350127267096383118540316881799413381928600488744904293876207905558796947340096143154286351442478830075341950709380030018598522387838985338641324100053122666687179553901614670812358750721823219304758940673395857745135365659623864676291613435221783179838353816319587876518383889907120249353052492856001896846597577377848090556534286581519635127481789266783916592073446465200132189181472619118177955711580450158010909933837"
      ]
     },
     "execution_count": 115,
     "metadata": {},
     "output_type": "execute_result"
    }
   ],
   "source": [
    "n = 4213 ** 211\n",
    "n"
   ]
  },
  {
   "cell_type": "code",
   "execution_count": 130,
   "id": "d6f71e8b-5539-4f31-b514-6c6f4f2da68f",
   "metadata": {},
   "outputs": [],
   "source": [
    "# float datatype"
   ]
  },
  {
   "cell_type": "code",
   "execution_count": 132,
   "id": "75efcc4a-e288-44a6-8bbe-728962c48104",
   "metadata": {},
   "outputs": [],
   "source": [
    "num3 = 75.4332"
   ]
  },
  {
   "cell_type": "code",
   "execution_count": 134,
   "id": "7058152f-f27b-4306-b2e8-865cc93f4d85",
   "metadata": {},
   "outputs": [
    {
     "data": {
      "text/plain": [
       "75.4332"
      ]
     },
     "execution_count": 134,
     "metadata": {},
     "output_type": "execute_result"
    }
   ],
   "source": [
    "num3"
   ]
  },
  {
   "cell_type": "code",
   "execution_count": 136,
   "id": "9718fe39-4adf-4e07-b997-5e78f02e7255",
   "metadata": {},
   "outputs": [
    {
     "data": {
      "text/plain": [
       "float"
      ]
     },
     "execution_count": 136,
     "metadata": {},
     "output_type": "execute_result"
    }
   ],
   "source": [
    "type(num3)"
   ]
  },
  {
   "cell_type": "code",
   "execution_count": 138,
   "id": "295cca8b-556a-43c5-bfef-0a902a1e94cf",
   "metadata": {},
   "outputs": [],
   "source": [
    "result = num3 * 12.11"
   ]
  },
  {
   "cell_type": "code",
   "execution_count": 140,
   "id": "02b67759-c8d9-44d2-a8ae-cfa4312f6fd1",
   "metadata": {},
   "outputs": [
    {
     "data": {
      "text/plain": [
       "913.496052"
      ]
     },
     "execution_count": 140,
     "metadata": {},
     "output_type": "execute_result"
    }
   ],
   "source": [
    "result"
   ]
  },
  {
   "cell_type": "code",
   "execution_count": 142,
   "id": "da9e1cc5-808c-488d-86b0-cbf78df94604",
   "metadata": {},
   "outputs": [],
   "source": [
    "x = 10.345321e5"
   ]
  },
  {
   "cell_type": "code",
   "execution_count": 144,
   "id": "a73b0923-2b2a-4d16-8336-470c1249dc47",
   "metadata": {},
   "outputs": [
    {
     "data": {
      "text/plain": [
       "float"
      ]
     },
     "execution_count": 144,
     "metadata": {},
     "output_type": "execute_result"
    }
   ],
   "source": [
    "type(x)"
   ]
  },
  {
   "cell_type": "code",
   "execution_count": 146,
   "id": "45d8249f-ce5d-4c1f-9041-5119c12dc5d5",
   "metadata": {},
   "outputs": [
    {
     "data": {
      "text/plain": [
       "1034532.1"
      ]
     },
     "execution_count": 146,
     "metadata": {},
     "output_type": "execute_result"
    }
   ],
   "source": [
    "x"
   ]
  },
  {
   "cell_type": "code",
   "execution_count": 148,
   "id": "dc4e07f0-e845-4185-a7f4-eef04aeffea0",
   "metadata": {},
   "outputs": [],
   "source": [
    "q = 17e3"
   ]
  },
  {
   "cell_type": "code",
   "execution_count": 150,
   "id": "d6d608dc-9232-4fa1-a672-f3df543984ca",
   "metadata": {},
   "outputs": [
    {
     "data": {
      "text/plain": [
       "17000.0"
      ]
     },
     "execution_count": 150,
     "metadata": {},
     "output_type": "execute_result"
    }
   ],
   "source": [
    "q"
   ]
  },
  {
   "cell_type": "code",
   "execution_count": 152,
   "id": "8450edc3-95a2-4a38-86af-ddbe28fdb477",
   "metadata": {},
   "outputs": [],
   "source": [
    "s = 1234.12e-2"
   ]
  },
  {
   "cell_type": "code",
   "execution_count": 154,
   "id": "7a84f429-262e-485e-a33a-0d8cfc14f6bf",
   "metadata": {},
   "outputs": [
    {
     "data": {
      "text/plain": [
       "12.3412"
      ]
     },
     "execution_count": 154,
     "metadata": {},
     "output_type": "execute_result"
    }
   ],
   "source": [
    "s"
   ]
  },
  {
   "cell_type": "code",
   "execution_count": 156,
   "id": "7a283488-3185-4908-a969-9138d23175d8",
   "metadata": {},
   "outputs": [],
   "source": [
    "# string datatype"
   ]
  },
  {
   "cell_type": "code",
   "execution_count": 158,
   "id": "5996e3d7-6bb0-4052-b861-1f7353e2f6e9",
   "metadata": {},
   "outputs": [],
   "source": [
    "name = 'Aditya'"
   ]
  },
  {
   "cell_type": "code",
   "execution_count": 160,
   "id": "195f70f0-c2e0-4a9e-8c5a-c5cb56746a57",
   "metadata": {},
   "outputs": [
    {
     "name": "stdout",
     "output_type": "stream",
     "text": [
      "Aditya\n"
     ]
    }
   ],
   "source": [
    "print(name)"
   ]
  },
  {
   "cell_type": "code",
   "execution_count": 162,
   "id": "0f2ac9f8-942f-4251-9f57-18886c88688e",
   "metadata": {},
   "outputs": [
    {
     "data": {
      "text/plain": [
       "str"
      ]
     },
     "execution_count": 162,
     "metadata": {},
     "output_type": "execute_result"
    }
   ],
   "source": [
    "type(name)"
   ]
  },
  {
   "cell_type": "code",
   "execution_count": 164,
   "id": "8449b114-7eaf-48cf-95cb-39658f113bfc",
   "metadata": {},
   "outputs": [],
   "source": [
    "sent = 'I like Python Programming'"
   ]
  },
  {
   "cell_type": "code",
   "execution_count": 166,
   "id": "60960d4f-2213-4dcc-b2f1-0bdec42a9448",
   "metadata": {},
   "outputs": [
    {
     "data": {
      "text/plain": [
       "'I like Python Programming'"
      ]
     },
     "execution_count": 166,
     "metadata": {},
     "output_type": "execute_result"
    }
   ],
   "source": [
    "sent"
   ]
  },
  {
   "cell_type": "code",
   "execution_count": 168,
   "id": "829d00d1-72ff-4174-b9cf-eb16b8bb5cca",
   "metadata": {},
   "outputs": [],
   "source": [
    "# I like 'Python' Programming"
   ]
  },
  {
   "cell_type": "code",
   "execution_count": 170,
   "id": "fefda6f1-40e5-411a-a144-55838a20b940",
   "metadata": {},
   "outputs": [
    {
     "name": "stdout",
     "output_type": "stream",
     "text": [
      "I like 'Python' Programming\n"
     ]
    }
   ],
   "source": [
    "print(\"I like 'Python' Programming\")"
   ]
  },
  {
   "cell_type": "code",
   "execution_count": 172,
   "id": "82b43773-0b65-452f-a341-107685addd0d",
   "metadata": {},
   "outputs": [
    {
     "name": "stdout",
     "output_type": "stream",
     "text": [
      "I like \"Python\" Programming\n"
     ]
    }
   ],
   "source": [
    "print('I like \"Python\" Programming')"
   ]
  },
  {
   "cell_type": "code",
   "execution_count": 174,
   "id": "30ad55b6-134b-4b0b-924f-edd00841c5f1",
   "metadata": {},
   "outputs": [],
   "source": [
    "# multiple assignment"
   ]
  },
  {
   "cell_type": "code",
   "execution_count": 176,
   "id": "ddda2eba-bd6d-4e8d-b09a-2bf9a4001844",
   "metadata": {},
   "outputs": [],
   "source": [
    "num1, num2, num3 = 67, 20, 29"
   ]
  },
  {
   "cell_type": "code",
   "execution_count": 178,
   "id": "d4a701d6-6693-40ff-8d5e-265e0f94b95a",
   "metadata": {},
   "outputs": [
    {
     "data": {
      "text/plain": [
       "67"
      ]
     },
     "execution_count": 178,
     "metadata": {},
     "output_type": "execute_result"
    }
   ],
   "source": [
    "num1"
   ]
  },
  {
   "cell_type": "code",
   "execution_count": 180,
   "id": "0230d397-0dc8-4c22-a527-4d3e30f1c8a5",
   "metadata": {},
   "outputs": [
    {
     "data": {
      "text/plain": [
       "20"
      ]
     },
     "execution_count": 180,
     "metadata": {},
     "output_type": "execute_result"
    }
   ],
   "source": [
    "num2"
   ]
  },
  {
   "cell_type": "code",
   "execution_count": 182,
   "id": "7f8f443c-5873-4b9f-a70e-5d0cd006f769",
   "metadata": {},
   "outputs": [
    {
     "data": {
      "text/plain": [
       "29"
      ]
     },
     "execution_count": 182,
     "metadata": {},
     "output_type": "execute_result"
    }
   ],
   "source": [
    "num3"
   ]
  },
  {
   "cell_type": "code",
   "execution_count": 184,
   "id": "c1448eed-58e5-4caa-a146-4248ec9dfae7",
   "metadata": {},
   "outputs": [
    {
     "name": "stdout",
     "output_type": "stream",
     "text": [
      "67 20\n"
     ]
    }
   ],
   "source": [
    "print(num1, num2)"
   ]
  },
  {
   "cell_type": "code",
   "execution_count": 186,
   "id": "dcf65552-8398-4c75-93c7-d0849210d12a",
   "metadata": {},
   "outputs": [
    {
     "name": "stdout",
     "output_type": "stream",
     "text": [
      "87\n"
     ]
    }
   ],
   "source": [
    "print(num1 + num2)"
   ]
  },
  {
   "cell_type": "code",
   "execution_count": 188,
   "id": "dbd49c3f-108d-44f6-ab36-82308f3c2bb2",
   "metadata": {},
   "outputs": [],
   "source": [
    "# string operations"
   ]
  },
  {
   "cell_type": "code",
   "execution_count": 190,
   "id": "60fdc7d9-e8c7-418e-bae0-1448741a3841",
   "metadata": {},
   "outputs": [],
   "source": [
    "name = 'Aditya'"
   ]
  },
  {
   "cell_type": "code",
   "execution_count": 192,
   "id": "73c92998-2a1d-4850-b3d7-853ef843a5aa",
   "metadata": {},
   "outputs": [
    {
     "data": {
      "text/plain": [
       "'Aditya'"
      ]
     },
     "execution_count": 192,
     "metadata": {},
     "output_type": "execute_result"
    }
   ],
   "source": [
    "name"
   ]
  },
  {
   "cell_type": "code",
   "execution_count": 194,
   "id": "443d52d3-c219-4f67-be66-d66c5a8a84d6",
   "metadata": {},
   "outputs": [
    {
     "data": {
      "text/plain": [
       "'aditya'"
      ]
     },
     "execution_count": 194,
     "metadata": {},
     "output_type": "execute_result"
    }
   ],
   "source": [
    "name.lower()"
   ]
  },
  {
   "cell_type": "code",
   "execution_count": 196,
   "id": "d019f092-62cf-453b-97e3-7c990d4bb69a",
   "metadata": {},
   "outputs": [
    {
     "data": {
      "text/plain": [
       "'ADITYA'"
      ]
     },
     "execution_count": 196,
     "metadata": {},
     "output_type": "execute_result"
    }
   ],
   "source": [
    "name.upper()"
   ]
  },
  {
   "cell_type": "code",
   "execution_count": 198,
   "id": "29045238-69c9-42c8-aeb4-fc6870c96753",
   "metadata": {},
   "outputs": [
    {
     "data": {
      "text/plain": [
       "'Aditya'"
      ]
     },
     "execution_count": 198,
     "metadata": {},
     "output_type": "execute_result"
    }
   ],
   "source": [
    "name"
   ]
  },
  {
   "cell_type": "code",
   "execution_count": 200,
   "id": "d3716c5a-e6ac-41d5-a08b-556cad2b026f",
   "metadata": {},
   "outputs": [
    {
     "data": {
      "text/plain": [
       "'ADITYA'"
      ]
     },
     "execution_count": 200,
     "metadata": {},
     "output_type": "execute_result"
    }
   ],
   "source": [
    "x = name.upper()\n",
    "x"
   ]
  },
  {
   "cell_type": "code",
   "execution_count": 202,
   "id": "abf22dac-d795-4eb6-a523-70116eb5b811",
   "metadata": {},
   "outputs": [
    {
     "data": {
      "text/plain": [
       "'Aditya'"
      ]
     },
     "execution_count": 202,
     "metadata": {},
     "output_type": "execute_result"
    }
   ],
   "source": [
    "name"
   ]
  },
  {
   "cell_type": "code",
   "execution_count": 204,
   "id": "e8428911-4998-46a6-8c2f-2e29a49b5d23",
   "metadata": {},
   "outputs": [
    {
     "data": {
      "text/plain": [
       "'aDITYA'"
      ]
     },
     "execution_count": 204,
     "metadata": {},
     "output_type": "execute_result"
    }
   ],
   "source": [
    "name.swapcase()"
   ]
  },
  {
   "cell_type": "code",
   "execution_count": 206,
   "id": "53bddd06-bce0-42d7-b2a1-50518b022ece",
   "metadata": {},
   "outputs": [
    {
     "data": {
      "text/plain": [
       "6"
      ]
     },
     "execution_count": 206,
     "metadata": {},
     "output_type": "execute_result"
    }
   ],
   "source": [
    "len(name)"
   ]
  },
  {
   "cell_type": "code",
   "execution_count": 208,
   "id": "7d93fcdd-1606-4ecd-8491-f2a5348883fb",
   "metadata": {},
   "outputs": [
    {
     "data": {
      "text/plain": [
       "'Aditya'"
      ]
     },
     "execution_count": 208,
     "metadata": {},
     "output_type": "execute_result"
    }
   ],
   "source": [
    "name"
   ]
  },
  {
   "cell_type": "code",
   "execution_count": 210,
   "id": "4ae11f79-c424-4971-bfbd-84662c3671ba",
   "metadata": {},
   "outputs": [
    {
     "data": {
      "text/plain": [
       "False"
      ]
     },
     "execution_count": 210,
     "metadata": {},
     "output_type": "execute_result"
    }
   ],
   "source": [
    "name.isupper()"
   ]
  },
  {
   "cell_type": "code",
   "execution_count": 212,
   "id": "e01f2193-d6e9-4ba1-9cb9-273a78f1f3e3",
   "metadata": {},
   "outputs": [
    {
     "data": {
      "text/plain": [
       "False"
      ]
     },
     "execution_count": 212,
     "metadata": {},
     "output_type": "execute_result"
    }
   ],
   "source": [
    "name.islower()"
   ]
  },
  {
   "cell_type": "code",
   "execution_count": 214,
   "id": "f5becdb7-003c-4032-aa21-2760d036e8b8",
   "metadata": {},
   "outputs": [
    {
     "data": {
      "text/plain": [
       "True"
      ]
     },
     "execution_count": 214,
     "metadata": {},
     "output_type": "execute_result"
    }
   ],
   "source": [
    "name.istitle()"
   ]
  },
  {
   "cell_type": "code",
   "execution_count": 216,
   "id": "5c71303d-fcd9-47c6-86b0-cb9fd2619e6c",
   "metadata": {},
   "outputs": [],
   "source": [
    "data1 = 'Pune'\n",
    "data2 = '2312'\n",
    "data3 = 'Hello121'"
   ]
  },
  {
   "cell_type": "code",
   "execution_count": 218,
   "id": "98ed0b06-717b-4ccb-bdbc-628ddfe6022a",
   "metadata": {},
   "outputs": [
    {
     "data": {
      "text/plain": [
       "True"
      ]
     },
     "execution_count": 218,
     "metadata": {},
     "output_type": "execute_result"
    }
   ],
   "source": [
    "data1.isalpha()"
   ]
  },
  {
   "cell_type": "code",
   "execution_count": 220,
   "id": "0a855ca1-68f3-4854-a37d-4d1c17964bd8",
   "metadata": {},
   "outputs": [
    {
     "data": {
      "text/plain": [
       "False"
      ]
     },
     "execution_count": 220,
     "metadata": {},
     "output_type": "execute_result"
    }
   ],
   "source": [
    "data2.isalpha()"
   ]
  },
  {
   "cell_type": "code",
   "execution_count": 222,
   "id": "c53124a4-26f0-4de3-9933-9d2715910089",
   "metadata": {},
   "outputs": [
    {
     "data": {
      "text/plain": [
       "False"
      ]
     },
     "execution_count": 222,
     "metadata": {},
     "output_type": "execute_result"
    }
   ],
   "source": [
    "data3.isalpha()"
   ]
  },
  {
   "cell_type": "code",
   "execution_count": 224,
   "id": "4531ac25-681c-410d-863f-aa347d049357",
   "metadata": {},
   "outputs": [
    {
     "data": {
      "text/plain": [
       "False"
      ]
     },
     "execution_count": 224,
     "metadata": {},
     "output_type": "execute_result"
    }
   ],
   "source": [
    "data1.isdigit()"
   ]
  },
  {
   "cell_type": "code",
   "execution_count": 226,
   "id": "74281a7c-d95a-4c73-8d17-ab7534a2c816",
   "metadata": {},
   "outputs": [
    {
     "data": {
      "text/plain": [
       "True"
      ]
     },
     "execution_count": 226,
     "metadata": {},
     "output_type": "execute_result"
    }
   ],
   "source": [
    "data2.isdigit()"
   ]
  },
  {
   "cell_type": "code",
   "execution_count": 228,
   "id": "9502eb77-bf28-4c20-9f84-645e488733d4",
   "metadata": {},
   "outputs": [],
   "source": [
    "name = ' Aditya '"
   ]
  },
  {
   "cell_type": "code",
   "execution_count": 230,
   "id": "1c8a1ed2-6314-4d61-9466-3c44e932b230",
   "metadata": {},
   "outputs": [
    {
     "data": {
      "text/plain": [
       "' Aditya '"
      ]
     },
     "execution_count": 230,
     "metadata": {},
     "output_type": "execute_result"
    }
   ],
   "source": [
    "name"
   ]
  },
  {
   "cell_type": "code",
   "execution_count": 232,
   "id": "1f258257-9b08-4579-80b9-001fbd5ed28d",
   "metadata": {},
   "outputs": [
    {
     "data": {
      "text/plain": [
       "'Aditya '"
      ]
     },
     "execution_count": 232,
     "metadata": {},
     "output_type": "execute_result"
    }
   ],
   "source": [
    "name.lstrip()"
   ]
  },
  {
   "cell_type": "code",
   "execution_count": 234,
   "id": "03609a86-9b49-4e59-86d3-527c761800a8",
   "metadata": {},
   "outputs": [
    {
     "data": {
      "text/plain": [
       "' Aditya'"
      ]
     },
     "execution_count": 234,
     "metadata": {},
     "output_type": "execute_result"
    }
   ],
   "source": [
    "name.rstrip()"
   ]
  },
  {
   "cell_type": "code",
   "execution_count": 236,
   "id": "ac95d91c-35b7-4537-b687-ce9da1bdb58b",
   "metadata": {},
   "outputs": [
    {
     "data": {
      "text/plain": [
       "'Aditya'"
      ]
     },
     "execution_count": 236,
     "metadata": {},
     "output_type": "execute_result"
    }
   ],
   "source": [
    "name.strip()"
   ]
  },
  {
   "cell_type": "code",
   "execution_count": 238,
   "id": "8052aa39-d4d1-4ce8-b303-af3940cb72e5",
   "metadata": {},
   "outputs": [
    {
     "data": {
      "text/plain": [
       "' Aditya '"
      ]
     },
     "execution_count": 238,
     "metadata": {},
     "output_type": "execute_result"
    }
   ],
   "source": [
    "name"
   ]
  },
  {
   "cell_type": "code",
   "execution_count": 240,
   "id": "a3c8fd3c-46c7-4f3c-a56a-044c0226f80e",
   "metadata": {},
   "outputs": [
    {
     "data": {
      "text/plain": [
       "True"
      ]
     },
     "execution_count": 240,
     "metadata": {},
     "output_type": "execute_result"
    }
   ],
   "source": [
    "name.startswith(' ')"
   ]
  },
  {
   "cell_type": "code",
   "execution_count": 242,
   "id": "94b46213-3a91-4bc0-aa46-59118d8e6d85",
   "metadata": {},
   "outputs": [
    {
     "data": {
      "text/plain": [
       "True"
      ]
     },
     "execution_count": 242,
     "metadata": {},
     "output_type": "execute_result"
    }
   ],
   "source": [
    "name.startswith(' A')"
   ]
  },
  {
   "cell_type": "code",
   "execution_count": 244,
   "id": "cb3ee5db-f442-4a45-9e46-cda54b185e1b",
   "metadata": {},
   "outputs": [
    {
     "data": {
      "text/plain": [
       "True"
      ]
     },
     "execution_count": 244,
     "metadata": {},
     "output_type": "execute_result"
    }
   ],
   "source": [
    "name.endswith('a ')"
   ]
  },
  {
   "cell_type": "code",
   "execution_count": 246,
   "id": "39df885f-ae52-48f0-8e87-d4232b3fa4d9",
   "metadata": {},
   "outputs": [
    {
     "data": {
      "text/plain": [
       "' Adeetya '"
      ]
     },
     "execution_count": 246,
     "metadata": {},
     "output_type": "execute_result"
    }
   ],
   "source": [
    "name.replace('i', 'ee')"
   ]
  },
  {
   "cell_type": "code",
   "execution_count": 248,
   "id": "fcd75e57-302a-4bae-8929-c7e77955b213",
   "metadata": {},
   "outputs": [
    {
     "data": {
      "text/plain": [
       "' Aditya '"
      ]
     },
     "execution_count": 248,
     "metadata": {},
     "output_type": "execute_result"
    }
   ],
   "source": [
    "name"
   ]
  },
  {
   "cell_type": "code",
   "execution_count": 250,
   "id": "905c23a5-ddfc-4909-b83f-3a3a38533a5f",
   "metadata": {},
   "outputs": [
    {
     "data": {
      "text/plain": [
       "1"
      ]
     },
     "execution_count": 250,
     "metadata": {},
     "output_type": "execute_result"
    }
   ],
   "source": [
    "name.find('A')"
   ]
  },
  {
   "cell_type": "code",
   "execution_count": 252,
   "id": "aec67a73-7248-44cd-965a-e64116f970fe",
   "metadata": {},
   "outputs": [
    {
     "data": {
      "text/plain": [
       "['__add__',\n",
       " '__class__',\n",
       " '__contains__',\n",
       " '__delattr__',\n",
       " '__dir__',\n",
       " '__doc__',\n",
       " '__eq__',\n",
       " '__format__',\n",
       " '__ge__',\n",
       " '__getattribute__',\n",
       " '__getitem__',\n",
       " '__getnewargs__',\n",
       " '__getstate__',\n",
       " '__gt__',\n",
       " '__hash__',\n",
       " '__init__',\n",
       " '__init_subclass__',\n",
       " '__iter__',\n",
       " '__le__',\n",
       " '__len__',\n",
       " '__lt__',\n",
       " '__mod__',\n",
       " '__mul__',\n",
       " '__ne__',\n",
       " '__new__',\n",
       " '__reduce__',\n",
       " '__reduce_ex__',\n",
       " '__repr__',\n",
       " '__rmod__',\n",
       " '__rmul__',\n",
       " '__setattr__',\n",
       " '__sizeof__',\n",
       " '__str__',\n",
       " '__subclasshook__',\n",
       " 'capitalize',\n",
       " 'casefold',\n",
       " 'center',\n",
       " 'count',\n",
       " 'encode',\n",
       " 'endswith',\n",
       " 'expandtabs',\n",
       " 'find',\n",
       " 'format',\n",
       " 'format_map',\n",
       " 'index',\n",
       " 'isalnum',\n",
       " 'isalpha',\n",
       " 'isascii',\n",
       " 'isdecimal',\n",
       " 'isdigit',\n",
       " 'isidentifier',\n",
       " 'islower',\n",
       " 'isnumeric',\n",
       " 'isprintable',\n",
       " 'isspace',\n",
       " 'istitle',\n",
       " 'isupper',\n",
       " 'join',\n",
       " 'ljust',\n",
       " 'lower',\n",
       " 'lstrip',\n",
       " 'maketrans',\n",
       " 'partition',\n",
       " 'removeprefix',\n",
       " 'removesuffix',\n",
       " 'replace',\n",
       " 'rfind',\n",
       " 'rindex',\n",
       " 'rjust',\n",
       " 'rpartition',\n",
       " 'rsplit',\n",
       " 'rstrip',\n",
       " 'split',\n",
       " 'splitlines',\n",
       " 'startswith',\n",
       " 'strip',\n",
       " 'swapcase',\n",
       " 'title',\n",
       " 'translate',\n",
       " 'upper',\n",
       " 'zfill']"
      ]
     },
     "execution_count": 252,
     "metadata": {},
     "output_type": "execute_result"
    }
   ],
   "source": [
    "dir(name)"
   ]
  },
  {
   "cell_type": "code",
   "execution_count": 254,
   "id": "82389878-5ce6-48ce-ad29-044ad196a80c",
   "metadata": {},
   "outputs": [
    {
     "name": "stdout",
     "output_type": "stream",
     "text": [
      "Help on built-in function join:\n",
      "\n",
      "join(iterable, /) method of builtins.str instance\n",
      "    Concatenate any number of strings.\n",
      "\n",
      "    The string whose method is called is inserted in between each given string.\n",
      "    The result is returned as a new string.\n",
      "\n",
      "    Example: '.'.join(['ab', 'pq', 'rs']) -> 'ab.pq.rs'\n",
      "\n"
     ]
    }
   ],
   "source": [
    "help(name.join)"
   ]
  },
  {
   "cell_type": "code",
   "execution_count": 256,
   "id": "f2225724-6b6c-4f5a-852c-907779978cf8",
   "metadata": {},
   "outputs": [],
   "source": [
    "# string concatenation"
   ]
  },
  {
   "cell_type": "code",
   "execution_count": 258,
   "id": "e0f280fe-91b1-40cc-aac1-ef34cf67fc46",
   "metadata": {},
   "outputs": [],
   "source": [
    "name1 = 'Hello'\n",
    "name2 = 'World'"
   ]
  },
  {
   "cell_type": "code",
   "execution_count": 260,
   "id": "560887e8-7606-476b-892c-34f94b319b70",
   "metadata": {},
   "outputs": [],
   "source": [
    "data = name1 + name2"
   ]
  },
  {
   "cell_type": "code",
   "execution_count": 262,
   "id": "3b402b79-f0d2-4366-9b21-980b0c48e295",
   "metadata": {},
   "outputs": [
    {
     "data": {
      "text/plain": [
       "'HelloWorld'"
      ]
     },
     "execution_count": 262,
     "metadata": {},
     "output_type": "execute_result"
    }
   ],
   "source": [
    "data"
   ]
  },
  {
   "cell_type": "code",
   "execution_count": 264,
   "id": "1826a855-3051-4225-94cc-4d174246e347",
   "metadata": {},
   "outputs": [
    {
     "data": {
      "text/plain": [
       "'HelloPune'"
      ]
     },
     "execution_count": 264,
     "metadata": {},
     "output_type": "execute_result"
    }
   ],
   "source": [
    "name1 + \"Pune\""
   ]
  },
  {
   "cell_type": "code",
   "execution_count": 266,
   "id": "0286d8a0-9b59-44d4-8884-03951034e081",
   "metadata": {},
   "outputs": [
    {
     "data": {
      "text/plain": [
       "'Hello Pune'"
      ]
     },
     "execution_count": 266,
     "metadata": {},
     "output_type": "execute_result"
    }
   ],
   "source": [
    "name1 + ' ' + \"Pune\""
   ]
  },
  {
   "cell_type": "code",
   "execution_count": 268,
   "id": "50fd6c5d-2ae5-4635-b3f5-afc151692f82",
   "metadata": {},
   "outputs": [],
   "source": [
    "# string repeatation"
   ]
  },
  {
   "cell_type": "code",
   "execution_count": 270,
   "id": "4aa5ac78-9099-4576-94ea-f5ebd0b8e146",
   "metadata": {},
   "outputs": [
    {
     "data": {
      "text/plain": [
       "'HelloHelloHelloHelloHello'"
      ]
     },
     "execution_count": 270,
     "metadata": {},
     "output_type": "execute_result"
    }
   ],
   "source": [
    "name1 * 5"
   ]
  },
  {
   "cell_type": "code",
   "execution_count": 272,
   "id": "d50da3c6-6468-4536-99f1-9dbe2e81f82f",
   "metadata": {},
   "outputs": [
    {
     "data": {
      "text/plain": [
       "'Hello*World*OK'"
      ]
     },
     "execution_count": 272,
     "metadata": {},
     "output_type": "execute_result"
    }
   ],
   "source": [
    "'*'.join([name1, name2, \"OK\"])"
   ]
  },
  {
   "cell_type": "code",
   "execution_count": 274,
   "id": "3710327c-cff8-415f-bf8b-68b4a64a7cef",
   "metadata": {},
   "outputs": [],
   "source": [
    "# Escape Sequence"
   ]
  },
  {
   "cell_type": "code",
   "execution_count": 276,
   "id": "3c8bd010-ac9e-47b2-a4a2-6520ec5993ae",
   "metadata": {},
   "outputs": [
    {
     "name": "stdout",
     "output_type": "stream",
     "text": [
      "Hello world\n"
     ]
    }
   ],
   "source": [
    "print('Hello world')"
   ]
  },
  {
   "cell_type": "code",
   "execution_count": 278,
   "id": "f4d9ec26-f8bf-4ba7-aaa9-5e0c4b08b120",
   "metadata": {},
   "outputs": [
    {
     "name": "stdout",
     "output_type": "stream",
     "text": [
      "Hello\n",
      "World\n"
     ]
    }
   ],
   "source": [
    "print('Hello\\nWorld')"
   ]
  },
  {
   "cell_type": "code",
   "execution_count": 280,
   "id": "4a0c3b66-f461-4d96-aa41-ae1f3c730aad",
   "metadata": {},
   "outputs": [
    {
     "name": "stdout",
     "output_type": "stream",
     "text": [
      "Hello\tWorld\n"
     ]
    }
   ],
   "source": [
    "print('Hello\\tWorld')"
   ]
  },
  {
   "cell_type": "code",
   "execution_count": 282,
   "id": "9a70b860-aed6-48e4-a66a-b39b33b12c18",
   "metadata": {},
   "outputs": [
    {
     "name": "stdout",
     "output_type": "stream",
     "text": [
      "Hello\n",
      "'World\n"
     ]
    }
   ],
   "source": [
    "print('Hello\\n\\'World')"
   ]
  },
  {
   "cell_type": "code",
   "execution_count": 284,
   "id": "f168b957-925f-4307-98ce-405f45215d13",
   "metadata": {},
   "outputs": [
    {
     "name": "stdout",
     "output_type": "stream",
     "text": [
      "30\n"
     ]
    }
   ],
   "source": [
    "# addition of 2 no\n",
    "\n",
    "num1 = 10\n",
    "num2 = 20\n",
    "result = num1 + num2\n",
    "print(result)"
   ]
  },
  {
   "cell_type": "code",
   "execution_count": 286,
   "id": "21aef3ec-217d-4606-a32f-0159518d86a2",
   "metadata": {},
   "outputs": [],
   "source": [
    "# docstring\n",
    "\n",
    "lines = \"\"\"this is first line\n",
    "this is second line\n",
    "third\"\"\""
   ]
  },
  {
   "cell_type": "code",
   "execution_count": 288,
   "id": "4505f41c-47cd-477b-87b1-79e1b8a5798b",
   "metadata": {},
   "outputs": [
    {
     "name": "stdout",
     "output_type": "stream",
     "text": [
      "this is first line\n",
      "this is second line\n",
      "third\n"
     ]
    }
   ],
   "source": [
    "print(lines)"
   ]
  },
  {
   "cell_type": "code",
   "execution_count": 290,
   "id": "5a318a66-099a-40c4-a1b0-242a7a3d7653",
   "metadata": {},
   "outputs": [],
   "source": [
    "#  ASCII"
   ]
  },
  {
   "cell_type": "code",
   "execution_count": 292,
   "id": "56279639-dfb6-437c-800c-3673d4f79f7f",
   "metadata": {},
   "outputs": [
    {
     "data": {
      "text/plain": [
       "65"
      ]
     },
     "execution_count": 292,
     "metadata": {},
     "output_type": "execute_result"
    }
   ],
   "source": [
    "ord('A')"
   ]
  },
  {
   "cell_type": "code",
   "execution_count": 294,
   "id": "ae0ae0d7-db8b-4c1b-9dc3-a2a1b7131d63",
   "metadata": {},
   "outputs": [
    {
     "data": {
      "text/plain": [
       "97"
      ]
     },
     "execution_count": 294,
     "metadata": {},
     "output_type": "execute_result"
    }
   ],
   "source": [
    "ord('a')"
   ]
  },
  {
   "cell_type": "code",
   "execution_count": 296,
   "id": "86e708d7-1fef-4a9a-8539-709fe5360f87",
   "metadata": {},
   "outputs": [
    {
     "data": {
      "text/plain": [
       "64"
      ]
     },
     "execution_count": 296,
     "metadata": {},
     "output_type": "execute_result"
    }
   ],
   "source": [
    "ord('@')"
   ]
  },
  {
   "cell_type": "code",
   "execution_count": 298,
   "id": "64da3666-1e8e-4042-b278-09737b866e89",
   "metadata": {},
   "outputs": [
    {
     "data": {
      "text/plain": [
       "'x'"
      ]
     },
     "execution_count": 298,
     "metadata": {},
     "output_type": "execute_result"
    }
   ],
   "source": [
    "chr(120)"
   ]
  },
  {
   "cell_type": "code",
   "execution_count": 300,
   "id": "21ad98cc-deab-4569-9b63-925a236a5724",
   "metadata": {},
   "outputs": [
    {
     "data": {
      "text/plain": [
       "'A'"
      ]
     },
     "execution_count": 300,
     "metadata": {},
     "output_type": "execute_result"
    }
   ],
   "source": [
    "chr(65)"
   ]
  },
  {
   "cell_type": "code",
   "execution_count": 302,
   "id": "b936914a-3a3f-4aba-9d13-0ee9be2ac38c",
   "metadata": {},
   "outputs": [
    {
     "data": {
      "text/plain": [
       "'²'"
      ]
     },
     "execution_count": 302,
     "metadata": {},
     "output_type": "execute_result"
    }
   ],
   "source": [
    "chr(178)"
   ]
  },
  {
   "cell_type": "code",
   "execution_count": 304,
   "id": "fdb7241e-5ea0-4fea-bc8a-e851e58aa042",
   "metadata": {},
   "outputs": [
    {
     "data": {
      "text/plain": [
       "'x²'"
      ]
     },
     "execution_count": 304,
     "metadata": {},
     "output_type": "execute_result"
    }
   ],
   "source": [
    "'x' + chr(178)"
   ]
  },
  {
   "cell_type": "code",
   "execution_count": 306,
   "id": "881b760b-4409-46dd-997b-9d523ceceb4c",
   "metadata": {},
   "outputs": [
    {
     "data": {
      "text/plain": [
       "36"
      ]
     },
     "execution_count": 306,
     "metadata": {},
     "output_type": "execute_result"
    }
   ],
   "source": [
    "ord('$')"
   ]
  },
  {
   "cell_type": "code",
   "execution_count": 308,
   "id": "b1a279a0-b044-4990-8856-e98bd22bef67",
   "metadata": {},
   "outputs": [],
   "source": [
    "# print function"
   ]
  },
  {
   "cell_type": "code",
   "execution_count": 310,
   "id": "eb9339dd-e01f-4b23-9cae-a9245a0e7700",
   "metadata": {},
   "outputs": [],
   "source": [
    "name = 'Jayesh'\n",
    "marks = 78"
   ]
  },
  {
   "cell_type": "code",
   "execution_count": 312,
   "id": "05153ebd-49f5-493a-b58c-902d25af41eb",
   "metadata": {},
   "outputs": [],
   "source": [
    "# my name is Jayesh and marks are 78"
   ]
  },
  {
   "cell_type": "code",
   "execution_count": 314,
   "id": "5bd7855f-7a1c-4d38-be5d-182173536d2b",
   "metadata": {},
   "outputs": [
    {
     "name": "stdout",
     "output_type": "stream",
     "text": [
      "my name is Jayesh and marks are 78\n"
     ]
    }
   ],
   "source": [
    "print(\"my name is\", name, \"and marks are\", marks)"
   ]
  },
  {
   "cell_type": "code",
   "execution_count": 316,
   "id": "0510f66e-6b77-488c-a5bf-fe002b7a99a1",
   "metadata": {},
   "outputs": [
    {
     "name": "stdout",
     "output_type": "stream",
     "text": [
      "my name is Jayesh and marks are 78\n"
     ]
    }
   ],
   "source": [
    "# formatted print\n",
    "print(\"my name is %s and marks are %i\" %(name, marks))"
   ]
  },
  {
   "cell_type": "code",
   "execution_count": 318,
   "id": "33760c59-8406-40b3-8fc7-1276bcbe1920",
   "metadata": {},
   "outputs": [
    {
     "name": "stdout",
     "output_type": "stream",
     "text": [
      "my name is Jayesh and marks are 78.000000\n"
     ]
    }
   ],
   "source": [
    "print(\"my name is %s and marks are %f\" %(name, marks))"
   ]
  },
  {
   "cell_type": "code",
   "execution_count": 320,
   "id": "17f571c6-efb0-43eb-aca0-fb583ef6ba48",
   "metadata": {},
   "outputs": [
    {
     "name": "stdout",
     "output_type": "stream",
     "text": [
      "my name is Jayesh and marks are 78.00\n"
     ]
    }
   ],
   "source": [
    "print(\"my name is %s and marks are %.2f\" %(name, marks))"
   ]
  },
  {
   "cell_type": "code",
   "execution_count": 322,
   "id": "bbfb7710-c0a7-4a64-9f6e-e8ff067c357c",
   "metadata": {},
   "outputs": [
    {
     "name": "stdout",
     "output_type": "stream",
     "text": [
      "my name is Jayesh and marks are 78\n"
     ]
    }
   ],
   "source": [
    "print(f\"my name is {name} and marks are {marks}\")"
   ]
  },
  {
   "cell_type": "code",
   "execution_count": 324,
   "id": "e898dec2-aa8f-45ba-9bf3-ec43761165ff",
   "metadata": {},
   "outputs": [],
   "source": [
    "city = 'Pune'"
   ]
  },
  {
   "cell_type": "code",
   "execution_count": 326,
   "id": "41213581-e6bf-445a-a74e-93537a0683d9",
   "metadata": {},
   "outputs": [
    {
     "name": "stdout",
     "output_type": "stream",
     "text": [
      "Jayesh 78 Pune\n"
     ]
    }
   ],
   "source": [
    "print(name, marks, city)"
   ]
  },
  {
   "cell_type": "code",
   "execution_count": 328,
   "id": "22299c76-9d41-4083-b04a-de1690d54513",
   "metadata": {},
   "outputs": [
    {
     "name": "stdout",
     "output_type": "stream",
     "text": [
      "Jayesh\n",
      "78\n",
      "Pune\n"
     ]
    }
   ],
   "source": [
    "print(name, marks, city, sep = '\\n')"
   ]
  },
  {
   "cell_type": "code",
   "execution_count": 330,
   "id": "399fe522-7177-4ea0-8449-26af8b7ba29a",
   "metadata": {},
   "outputs": [
    {
     "name": "stdout",
     "output_type": "stream",
     "text": [
      "Jayesh    78    Pune\n"
     ]
    }
   ],
   "source": [
    "print(name, marks, city, sep = '    ')"
   ]
  },
  {
   "cell_type": "code",
   "execution_count": 332,
   "id": "b20793db-f650-477a-815d-14050a90be7a",
   "metadata": {},
   "outputs": [
    {
     "name": "stdout",
     "output_type": "stream",
     "text": [
      "Jayesh 78 Pune*"
     ]
    }
   ],
   "source": [
    "print(name, marks, city, end = '*')"
   ]
  },
  {
   "cell_type": "code",
   "execution_count": 334,
   "id": "150e6cab-6ff6-4c6f-824b-3b072967dcff",
   "metadata": {},
   "outputs": [],
   "source": [
    "# Operators"
   ]
  },
  {
   "cell_type": "code",
   "execution_count": 336,
   "id": "326a0de1-fe34-40b1-b98c-210c055f96bc",
   "metadata": {},
   "outputs": [],
   "source": [
    "# arithmetic operators"
   ]
  },
  {
   "cell_type": "code",
   "execution_count": 338,
   "id": "77f0ae89-4ef6-4701-8e86-dca9126568ea",
   "metadata": {},
   "outputs": [],
   "source": [
    "a = 20\n",
    "b = 10\n",
    "c = 6"
   ]
  },
  {
   "cell_type": "code",
   "execution_count": 340,
   "id": "9ce261d8-d811-4fe4-a2b0-e2badf5bc0fa",
   "metadata": {},
   "outputs": [
    {
     "data": {
      "text/plain": [
       "30"
      ]
     },
     "execution_count": 340,
     "metadata": {},
     "output_type": "execute_result"
    }
   ],
   "source": [
    "a + b"
   ]
  },
  {
   "cell_type": "code",
   "execution_count": 342,
   "id": "3e942320-2d69-4a7c-aa53-7dca5624865d",
   "metadata": {},
   "outputs": [
    {
     "data": {
      "text/plain": [
       "10"
      ]
     },
     "execution_count": 342,
     "metadata": {},
     "output_type": "execute_result"
    }
   ],
   "source": [
    "a - b"
   ]
  },
  {
   "cell_type": "code",
   "execution_count": 344,
   "id": "87fed80f-77a2-41ab-a1d2-b27b641355d0",
   "metadata": {},
   "outputs": [
    {
     "data": {
      "text/plain": [
       "200"
      ]
     },
     "execution_count": 344,
     "metadata": {},
     "output_type": "execute_result"
    }
   ],
   "source": [
    "a * b"
   ]
  },
  {
   "cell_type": "code",
   "execution_count": 346,
   "id": "e347ab64-f75f-42cd-9fb5-affbddf92290",
   "metadata": {},
   "outputs": [
    {
     "data": {
      "text/plain": [
       "2.0"
      ]
     },
     "execution_count": 346,
     "metadata": {},
     "output_type": "execute_result"
    }
   ],
   "source": [
    "a / b"
   ]
  },
  {
   "cell_type": "code",
   "execution_count": 348,
   "id": "7db92e04-1670-4423-af55-b9b176bf9f79",
   "metadata": {},
   "outputs": [
    {
     "data": {
      "text/plain": [
       "3"
      ]
     },
     "execution_count": 348,
     "metadata": {},
     "output_type": "execute_result"
    }
   ],
   "source": [
    "a // c # floor division"
   ]
  },
  {
   "cell_type": "code",
   "execution_count": 350,
   "id": "f9e9d159-0308-4c45-9659-33e30af58c26",
   "metadata": {},
   "outputs": [
    {
     "data": {
      "text/plain": [
       "2"
      ]
     },
     "execution_count": 350,
     "metadata": {},
     "output_type": "execute_result"
    }
   ],
   "source": [
    "a % c  # remainder or modulus division"
   ]
  },
  {
   "cell_type": "code",
   "execution_count": 352,
   "id": "5bd596ce-a3df-4f26-80f9-f45811943b1f",
   "metadata": {},
   "outputs": [
    {
     "data": {
      "text/plain": [
       "10240000000000"
      ]
     },
     "execution_count": 352,
     "metadata": {},
     "output_type": "execute_result"
    }
   ],
   "source": [
    "a ** b   # raise to"
   ]
  },
  {
   "cell_type": "code",
   "execution_count": 354,
   "id": "cdcef236-a5fd-4136-b817-1d1801fc7b58",
   "metadata": {},
   "outputs": [],
   "source": [
    "# Relational operators"
   ]
  },
  {
   "cell_type": "code",
   "execution_count": 356,
   "id": "239dce57-3883-4163-94ed-f7b57a499f4e",
   "metadata": {},
   "outputs": [
    {
     "data": {
      "text/plain": [
       "True"
      ]
     },
     "execution_count": 356,
     "metadata": {},
     "output_type": "execute_result"
    }
   ],
   "source": [
    "a > b"
   ]
  },
  {
   "cell_type": "code",
   "execution_count": 358,
   "id": "64047fea-69bd-4d04-bf6d-c92c91fe6f50",
   "metadata": {},
   "outputs": [
    {
     "data": {
      "text/plain": [
       "False"
      ]
     },
     "execution_count": 358,
     "metadata": {},
     "output_type": "execute_result"
    }
   ],
   "source": [
    "b < c"
   ]
  },
  {
   "cell_type": "code",
   "execution_count": 360,
   "id": "8c590103-e563-486a-81a3-910f73d87c31",
   "metadata": {},
   "outputs": [
    {
     "data": {
      "text/plain": [
       "True"
      ]
     },
     "execution_count": 360,
     "metadata": {},
     "output_type": "execute_result"
    }
   ],
   "source": [
    "a >= b"
   ]
  },
  {
   "cell_type": "code",
   "execution_count": 362,
   "id": "c52edbac-99f1-498b-bdbf-663e0498628c",
   "metadata": {},
   "outputs": [
    {
     "data": {
      "text/plain": [
       "False"
      ]
     },
     "execution_count": 362,
     "metadata": {},
     "output_type": "execute_result"
    }
   ],
   "source": [
    "a == b"
   ]
  },
  {
   "cell_type": "code",
   "execution_count": 366,
   "id": "48f6e371-def0-43d6-8bb3-5619b503469c",
   "metadata": {},
   "outputs": [
    {
     "data": {
      "text/plain": [
       "True"
      ]
     },
     "execution_count": 366,
     "metadata": {},
     "output_type": "execute_result"
    }
   ],
   "source": [
    "a != b   # not equals to"
   ]
  },
  {
   "cell_type": "code",
   "execution_count": 368,
   "id": "dc730266-1aed-4c2e-804c-72dc9735c192",
   "metadata": {},
   "outputs": [],
   "source": [
    "# assignment operator"
   ]
  },
  {
   "cell_type": "code",
   "execution_count": 370,
   "id": "4a499fe9-7cb0-49c2-82a4-406b66fd934a",
   "metadata": {},
   "outputs": [],
   "source": [
    "num = 10"
   ]
  },
  {
   "cell_type": "code",
   "execution_count": 372,
   "id": "5dc05210-9000-48aa-a745-5fefa140c3a2",
   "metadata": {},
   "outputs": [
    {
     "data": {
      "text/plain": [
       "10"
      ]
     },
     "execution_count": 372,
     "metadata": {},
     "output_type": "execute_result"
    }
   ],
   "source": [
    "num"
   ]
  },
  {
   "cell_type": "code",
   "execution_count": 376,
   "id": "0111b63e-8e69-4f42-93f1-829ccdb1fa46",
   "metadata": {},
   "outputs": [],
   "source": [
    "num += 2"
   ]
  },
  {
   "cell_type": "code",
   "execution_count": 378,
   "id": "5c1a88a5-3ef8-4633-8bea-6cc3ea45bdca",
   "metadata": {},
   "outputs": [
    {
     "data": {
      "text/plain": [
       "12"
      ]
     },
     "execution_count": 378,
     "metadata": {},
     "output_type": "execute_result"
    }
   ],
   "source": [
    "num"
   ]
  },
  {
   "cell_type": "code",
   "execution_count": 382,
   "id": "a1ebc307-aa38-4e0d-a2e5-1cc1010e7419",
   "metadata": {},
   "outputs": [
    {
     "data": {
      "text/plain": [
       "(20, 10, 6)"
      ]
     },
     "execution_count": 382,
     "metadata": {},
     "output_type": "execute_result"
    }
   ],
   "source": [
    "a, b, c"
   ]
  },
  {
   "cell_type": "code",
   "execution_count": 380,
   "id": "3ac3f29b-ba70-49e9-87ae-1b6a5b42a83e",
   "metadata": {},
   "outputs": [],
   "source": [
    "# logical operators"
   ]
  },
  {
   "cell_type": "code",
   "execution_count": 384,
   "id": "ff3490a5-59e7-45f6-b92b-55205276da70",
   "metadata": {},
   "outputs": [
    {
     "data": {
      "text/plain": [
       "True"
      ]
     },
     "execution_count": 384,
     "metadata": {},
     "output_type": "execute_result"
    }
   ],
   "source": [
    "a > b and b > c"
   ]
  },
  {
   "cell_type": "code",
   "execution_count": 386,
   "id": "b4cfe222-7bdf-45e8-b11a-26de21ee598b",
   "metadata": {},
   "outputs": [
    {
     "data": {
      "text/plain": [
       "False"
      ]
     },
     "execution_count": 386,
     "metadata": {},
     "output_type": "execute_result"
    }
   ],
   "source": [
    "a > b and b < c"
   ]
  },
  {
   "cell_type": "code",
   "execution_count": 388,
   "id": "be6f8daf-ad18-40b5-82bd-69a413143148",
   "metadata": {},
   "outputs": [
    {
     "data": {
      "text/plain": [
       "True"
      ]
     },
     "execution_count": 388,
     "metadata": {},
     "output_type": "execute_result"
    }
   ],
   "source": [
    "a > b or b < c"
   ]
  },
  {
   "cell_type": "code",
   "execution_count": 390,
   "id": "ea3e1e1b-0715-408d-a5a0-81363cc366c7",
   "metadata": {},
   "outputs": [],
   "source": [
    "# membership selection"
   ]
  },
  {
   "cell_type": "code",
   "execution_count": 392,
   "id": "181fe767-979c-4fc1-b111-a8e62078896c",
   "metadata": {},
   "outputs": [
    {
     "data": {
      "text/plain": [
       "'Jayesh'"
      ]
     },
     "execution_count": 392,
     "metadata": {},
     "output_type": "execute_result"
    }
   ],
   "source": [
    "name"
   ]
  },
  {
   "cell_type": "code",
   "execution_count": 394,
   "id": "b284a834-b4bd-424f-98e3-61a7fa314d7a",
   "metadata": {},
   "outputs": [
    {
     "data": {
      "text/plain": [
       "True"
      ]
     },
     "execution_count": 394,
     "metadata": {},
     "output_type": "execute_result"
    }
   ],
   "source": [
    "'y' in name"
   ]
  },
  {
   "cell_type": "code",
   "execution_count": 398,
   "id": "bed8f9c8-01ad-49ca-a2f5-6117ba66c190",
   "metadata": {},
   "outputs": [
    {
     "data": {
      "text/plain": [
       "False"
      ]
     },
     "execution_count": 398,
     "metadata": {},
     "output_type": "execute_result"
    }
   ],
   "source": [
    "'z' in name"
   ]
  },
  {
   "cell_type": "code",
   "execution_count": 400,
   "id": "db809256-6ed9-4cec-b471-402b580111e9",
   "metadata": {},
   "outputs": [],
   "source": [
    "# type casting"
   ]
  },
  {
   "cell_type": "code",
   "execution_count": 402,
   "id": "192b99b1-4f5d-4508-b03c-d36f5bd8ad21",
   "metadata": {},
   "outputs": [],
   "source": [
    "num1 = 10\n",
    "num2 = 22.14"
   ]
  },
  {
   "cell_type": "code",
   "execution_count": 406,
   "id": "c7e9cbf7-e668-443b-86d5-047825648906",
   "metadata": {},
   "outputs": [
    {
     "data": {
      "text/plain": [
       "22"
      ]
     },
     "execution_count": 406,
     "metadata": {},
     "output_type": "execute_result"
    }
   ],
   "source": [
    "int(num2)"
   ]
  },
  {
   "cell_type": "code",
   "execution_count": 408,
   "id": "35b2b4a1-27bf-4d89-9636-b4cfcaadd4cf",
   "metadata": {},
   "outputs": [
    {
     "data": {
      "text/plain": [
       "32"
      ]
     },
     "execution_count": 408,
     "metadata": {},
     "output_type": "execute_result"
    }
   ],
   "source": [
    "num1 + int(num2)"
   ]
  },
  {
   "cell_type": "code",
   "execution_count": 410,
   "id": "b8ff24f5-2ac6-4894-8efb-c42344182499",
   "metadata": {},
   "outputs": [],
   "source": [
    "name = 'Riya'\n",
    "marks = 30"
   ]
  },
  {
   "cell_type": "code",
   "execution_count": 412,
   "id": "112f187d-b566-4e01-b9bb-31e1d591a0a8",
   "metadata": {},
   "outputs": [],
   "source": [
    "# password = Riya30"
   ]
  },
  {
   "cell_type": "code",
   "execution_count": 414,
   "id": "01f41582-2763-4747-840e-88bc4289eb14",
   "metadata": {},
   "outputs": [],
   "source": [
    "password = name + str(marks)"
   ]
  },
  {
   "cell_type": "code",
   "execution_count": 416,
   "id": "cf8198e0-1bbb-4e4f-b778-a63153154a81",
   "metadata": {},
   "outputs": [
    {
     "data": {
      "text/plain": [
       "'Riya30'"
      ]
     },
     "execution_count": 416,
     "metadata": {},
     "output_type": "execute_result"
    }
   ],
   "source": [
    "password"
   ]
  },
  {
   "cell_type": "code",
   "execution_count": 418,
   "id": "5841c19d-f4d0-4a62-a974-26008bd22860",
   "metadata": {},
   "outputs": [],
   "source": [
    "# user input"
   ]
  },
  {
   "cell_type": "code",
   "execution_count": 422,
   "id": "5fd391c3-2dc5-488d-b614-cf0c15b8f532",
   "metadata": {},
   "outputs": [
    {
     "name": "stdin",
     "output_type": "stream",
     "text": [
      "Enter the number  1\n",
      "Enter the 2nd number  1\n"
     ]
    },
    {
     "name": "stdout",
     "output_type": "stream",
     "text": [
      "addition is 2\n"
     ]
    }
   ],
   "source": [
    "num1 = int(input(\"Enter the number \"))\n",
    "num2 = int(input(\"Enter the 2nd number \"))\n",
    "\n",
    "add = num1 + num2\n",
    "print(\"addition is\", add)"
   ]
  },
  {
   "cell_type": "code",
   "execution_count": null,
   "id": "5d3c3ba8-4cee-4f68-a044-b0bb81efdbd4",
   "metadata": {},
   "outputs": [],
   "source": []
  }
 ],
 "metadata": {
  "kernelspec": {
   "display_name": "Python [conda env:base] *",
   "language": "python",
   "name": "conda-base-py"
  },
  "language_info": {
   "codemirror_mode": {
    "name": "ipython",
    "version": 3
   },
   "file_extension": ".py",
   "mimetype": "text/x-python",
   "name": "python",
   "nbconvert_exporter": "python",
   "pygments_lexer": "ipython3",
   "version": "3.12.4"
  }
 },
 "nbformat": 4,
 "nbformat_minor": 5
}
